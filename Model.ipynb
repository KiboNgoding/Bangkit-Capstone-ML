{
  "cells": [
    {
      "cell_type": "code",
      "execution_count": 1,
      "metadata": {
        "colab": {
          "background_save": true,
          "base_uri": "https://localhost:8080/"
        },
        "id": "bb7rzMK3noWW",
        "outputId": "e3b331e4-205c-45ff-a928-2384d4a9f310"
      },
      "outputs": [
        {
          "name": "stdout",
          "output_type": "stream",
          "text": [
            "^C\n"
          ]
        }
      ],
      "source": [
        "!pip install tensorflow==2.14.0"
      ]
    },
    {
      "cell_type": "code",
      "execution_count": 2,
      "metadata": {
        "colab": {
          "base_uri": "https://localhost:8080/"
        },
        "id": "TresU4pAnTCX",
        "outputId": "6012e645-9dd6-4521-c472-c58ed1c17a79"
      },
      "outputs": [
        {
          "name": "stdout",
          "output_type": "stream",
          "text": [
            "WARNING:tensorflow:From c:\\Users\\Lenovo\\AppData\\Local\\Programs\\Python\\Python39\\lib\\site-packages\\keras\\src\\losses.py:2976: The name tf.losses.sparse_softmax_cross_entropy is deprecated. Please use tf.compat.v1.losses.sparse_softmax_cross_entropy instead.\n",
            "\n",
            "2.15.0\n"
          ]
        }
      ],
      "source": [
        "import numpy as np\n",
        "import tensorflow as tf\n",
        "\n",
        "# tf.enable_eager_execution()\n",
        "print(tf.__version__)"
      ]
    },
    {
      "cell_type": "code",
      "execution_count": 3,
      "metadata": {
        "id": "CyOV78LVPDhz"
      },
      "outputs": [],
      "source": [
        "Users = ['Rizki','Misel','Via','Hasan']\n",
        "ProdukUtama = ['Bakso 99','Toko Sayuran Bu Umi','Foto Copy NN','Butik Indah','Meubel Raharja','Agro Blimbing']\n",
        "Umkms = ['kuliner','otomotif','fashion','Agrobisnis','produk digital']\n",
        "\n",
        "num_users = len(Users)\n",
        "num_produk_utama = len(ProdukUtama)\n",
        "num_umkms = len(Umkms)\n",
        "num_recomendations = 4"
      ]
    },
    {
      "cell_type": "code",
      "execution_count": 4,
      "metadata": {
        "id": "4o7oTyDYpgHM"
      },
      "outputs": [],
      "source": [
        "Users_ProdukUtama = tf.constant([\n",
        "                [4, 6, 8, 0, 0, 0],\n",
        "                [0, 0, 10, 0, 8, 3],\n",
        "                [0, 6, 0, 0, 3, 7],\n",
        "                [10, 9, 0, 5, 0, 2]],dtype=tf.float32)\n",
        "\n",
        "# one-hot encoded\n",
        "ProdukUtama_Umkms = tf.constant([\n",
        "                [1, 1, 0, 0, 1],\n",
        "                [1, 1, 0, 0, 0],\n",
        "                [0, 0, 1, 1, 0],\n",
        "                [1, 0, 1, 1, 0],\n",
        "                [0, 0, 0, 0, 1],\n",
        "                [1, 0, 0, 0, 1]],dtype=tf.float32)"
      ]
    },
    {
      "cell_type": "code",
      "execution_count": 5,
      "metadata": {
        "colab": {
          "base_uri": "https://localhost:8080/"
        },
        "id": "U-hJjiAIsuoW",
        "outputId": "edd7178c-43c7-463b-f5e6-bd101beb3e8a"
      },
      "outputs": [
        {
          "data": {
            "text/plain": [
              "<tf.Tensor: shape=(4, 5), dtype=float32, numpy=\n",
              "array([[10., 10.,  8.,  8.,  4.],\n",
              "       [ 3.,  0., 10., 10., 11.],\n",
              "       [13.,  6.,  0.,  0., 10.],\n",
              "       [26., 19.,  5.,  5., 12.]], dtype=float32)>"
            ]
          },
          "execution_count": 5,
          "metadata": {},
          "output_type": "execute_result"
        }
      ],
      "source": [
        "users_umkms = tf.matmul(Users_ProdukUtama,ProdukUtama_Umkms)\n",
        "users_umkms"
      ]
    },
    {
      "cell_type": "code",
      "execution_count": 6,
      "metadata": {
        "colab": {
          "base_uri": "https://localhost:8080/"
        },
        "id": "3QZd51DFtSZy",
        "outputId": "8014e825-e92a-4b64-d0d2-543e93ecde45"
      },
      "outputs": [
        {
          "data": {
            "text/plain": [
              "<tf.Tensor: shape=(4, 5), dtype=float32, numpy=\n",
              "array([[0.25      , 0.25      , 0.2       , 0.2       , 0.1       ],\n",
              "       [0.0882353 , 0.        , 0.29411766, 0.29411766, 0.32352942],\n",
              "       [0.44827586, 0.20689656, 0.        , 0.        , 0.3448276 ],\n",
              "       [0.3880597 , 0.2835821 , 0.07462686, 0.07462686, 0.17910448]],\n",
              "      dtype=float32)>"
            ]
          },
          "execution_count": 6,
          "metadata": {},
          "output_type": "execute_result"
        }
      ],
      "source": [
        "users_umkms = users_umkms/tf.reduce_sum(users_umkms,axis=1,keepdims=True)\n",
        "users_umkms\n"
      ]
    },
    {
      "cell_type": "code",
      "execution_count": 7,
      "metadata": {
        "colab": {
          "base_uri": "https://localhost:8080/"
        },
        "id": "DzLF7KP6deQk",
        "outputId": "3d46c804-12a8-4ff0-e5de-1824a0370874"
      },
      "outputs": [
        {
          "data": {
            "text/plain": [
              "<tf.Tensor: shape=(4, 5), dtype=int32, numpy=\n",
              "array([[0, 1, 2, 3, 4],\n",
              "       [4, 2, 3, 0, 1],\n",
              "       [0, 4, 1, 2, 3],\n",
              "       [0, 1, 4, 2, 3]])>"
            ]
          },
          "execution_count": 7,
          "metadata": {},
          "output_type": "execute_result"
        }
      ],
      "source": [
        "top_users_umkms = tf.nn.top_k(users_umkms,num_umkms)[1]\n",
        "top_users_umkms"
      ]
    },
    {
      "cell_type": "code",
      "execution_count": 8,
      "metadata": {
        "colab": {
          "base_uri": "https://localhost:8080/"
        },
        "id": "PNk783e1tkWn",
        "outputId": "8020f646-4a47-4037-db5b-0dea7b4c5c5a"
      },
      "outputs": [
        {
          "name": "stdout",
          "output_type": "stream",
          "text": [
            "Rizki: ['kuliner', 'otomotif', 'fashion', 'Agrobisnis', 'produk digital']\n",
            "Misel: ['produk digital', 'fashion', 'Agrobisnis', 'kuliner', 'otomotif']\n",
            "Via: ['kuliner', 'produk digital', 'otomotif', 'fashion', 'Agrobisnis']\n",
            "Hasan: ['kuliner', 'otomotif', 'produk digital', 'fashion', 'Agrobisnis']\n"
          ]
        }
      ],
      "source": [
        "for i in range(num_users) :\n",
        "    Umkms_names = [Umkms[int(index)] for index in top_users_umkms[i]]\n",
        "    print('{}: {}'.format(Users[i],Umkms_names))"
      ]
    },
    {
      "cell_type": "code",
      "execution_count": 9,
      "metadata": {
        "colab": {
          "base_uri": "https://localhost:8080/"
        },
        "id": "6H_IlZugfdBq",
        "outputId": "9ed24998-527e-49ba-fc49-9f3b6642861f"
      },
      "outputs": [
        {
          "data": {
            "text/plain": [
              "<tf.Tensor: shape=(4, 6), dtype=float32, numpy=\n",
              "array([[0.6       , 0.5       , 0.4       , 0.65      , 0.1       ,\n",
              "        0.35      ],\n",
              "       [0.4117647 , 0.0882353 , 0.5882353 , 0.67647064, 0.32352942,\n",
              "        0.4117647 ],\n",
              "       [1.        , 0.6551724 , 0.        , 0.44827586, 0.3448276 ,\n",
              "        0.79310346],\n",
              "       [0.8507463 , 0.6716418 , 0.14925373, 0.53731346, 0.17910448,\n",
              "        0.5671642 ]], dtype=float32)>"
            ]
          },
          "execution_count": 9,
          "metadata": {},
          "output_type": "execute_result"
        }
      ],
      "source": [
        "users_ratings = tf.matmul(users_umkms,tf.transpose(ProdukUtama_Umkms))\n",
        "users_ratings"
      ]
    },
    {
      "cell_type": "code",
      "execution_count": 10,
      "metadata": {
        "colab": {
          "background_save": true,
          "base_uri": "https://localhost:8080/"
        },
        "id": "oPMcuf5zzO3m",
        "outputId": "008aef31-358d-4c0a-c8ae-60368d2ea9fc"
      },
      "outputs": [
        {
          "data": {
            "text/plain": [
              "<tf.Tensor: shape=(4, 6), dtype=float32, numpy=\n",
              "array([[0.        , 0.        , 0.        , 0.65      , 0.1       ,\n",
              "        0.35      ],\n",
              "       [0.4117647 , 0.0882353 , 0.        , 0.67647064, 0.        ,\n",
              "        0.        ],\n",
              "       [1.        , 0.        , 0.        , 0.44827586, 0.        ,\n",
              "        0.        ],\n",
              "       [0.        , 0.        , 0.14925373, 0.        , 0.17910448,\n",
              "        0.        ]], dtype=float32)>"
            ]
          },
          "execution_count": 10,
          "metadata": {},
          "output_type": "execute_result"
        }
      ],
      "source": [
        "users_ratings_new = tf.where(tf.equal(Users_ProdukUtama, tf.zeros_like(Users_ProdukUtama)),\n",
        "                                  users_ratings,\n",
        "                             tf.zeros_like(tf.cast(Users_ProdukUtama, tf.float32)))\n",
        "users_ratings_new"
      ]
    },
    {
      "cell_type": "code",
      "execution_count": 11,
      "metadata": {
        "colab": {
          "background_save": true,
          "base_uri": "https://localhost:8080/"
        },
        "id": "T7YgZ7R17mDt",
        "outputId": "6e79d0d4-65dc-4fe0-ffe4-d13dc9158bdc"
      },
      "outputs": [
        {
          "data": {
            "text/plain": [
              "<tf.Tensor: shape=(4, 4), dtype=int32, numpy=\n",
              "array([[3, 5, 4, 0],\n",
              "       [3, 0, 1, 2],\n",
              "       [0, 3, 1, 2],\n",
              "       [4, 2, 0, 1]])>"
            ]
          },
          "execution_count": 11,
          "metadata": {},
          "output_type": "execute_result"
        }
      ],
      "source": [
        "top_ProdukUtama = tf.nn.top_k(users_ratings_new,num_recomendations)[1]\n",
        "top_ProdukUtama"
      ]
    },
    {
      "cell_type": "code",
      "execution_count": 12,
      "metadata": {
        "colab": {
          "background_save": true,
          "base_uri": "https://localhost:8080/"
        },
        "id": "M1sOXiN48BNT",
        "outputId": "75b2af14-8b00-4390-8289-09dc2eea38bd"
      },
      "outputs": [
        {
          "name": "stdout",
          "output_type": "stream",
          "text": [
            "Rizki: ['Butik Indah', 'Agro Blimbing', 'Meubel Raharja', 'Bakso 99']\n",
            "Misel: ['Butik Indah', 'Bakso 99', 'Toko Sayuran Bu Umi', 'Foto Copy NN']\n",
            "Via: ['Bakso 99', 'Butik Indah', 'Toko Sayuran Bu Umi', 'Foto Copy NN']\n",
            "Hasan: ['Meubel Raharja', 'Foto Copy NN', 'Bakso 99', 'Toko Sayuran Bu Umi']\n"
          ]
        }
      ],
      "source": [
        "for i in range(num_users):\n",
        "    ProdukUtama_names = [ProdukUtama[index] for index in top_ProdukUtama[i]]\n",
        "    print('{}: {}'.format(Users[i],ProdukUtama_names))\n"
      ]
    },
    {
      "cell_type": "code",
      "execution_count": 13,
      "metadata": {},
      "outputs": [
        {
          "ename": "AttributeError",
          "evalue": "'tensorflow.python.framework.ops.EagerTensor' object has no attribute 'save'",
          "output_type": "error",
          "traceback": [
            "\u001b[1;31m---------------------------------------------------------------------------\u001b[0m",
            "\u001b[1;31mAttributeError\u001b[0m                            Traceback (most recent call last)",
            "\u001b[1;32m~\\AppData\\Local\\Temp/ipykernel_19892/2616890730.py\u001b[0m in \u001b[0;36m<module>\u001b[1;34m\u001b[0m\n\u001b[1;32m----> 1\u001b[1;33m \u001b[0mtop_ProdukUtama\u001b[0m\u001b[1;33m.\u001b[0m\u001b[0msave\u001b[0m\u001b[1;33m(\u001b[0m\u001b[1;34m'top_ProdukUtama.h5'\u001b[0m\u001b[1;33m)\u001b[0m\u001b[1;33m\u001b[0m\u001b[1;33m\u001b[0m\u001b[0m\n\u001b[0m",
            "\u001b[1;32mc:\\Users\\Lenovo\\AppData\\Local\\Programs\\Python\\Python39\\lib\\site-packages\\tensorflow\\python\\framework\\tensor.py\u001b[0m in \u001b[0;36m__getattr__\u001b[1;34m(self, name)\u001b[0m\n\u001b[0;32m    259\u001b[0m         \u001b[0mtf\u001b[0m\u001b[1;33m.\u001b[0m\u001b[0mexperimental\u001b[0m\u001b[1;33m.\u001b[0m\u001b[0mnumpy\u001b[0m\u001b[1;33m.\u001b[0m\u001b[0mexperimental_enable_numpy_behavior\u001b[0m\u001b[1;33m(\u001b[0m\u001b[1;33m)\u001b[0m\u001b[1;33m\u001b[0m\u001b[1;33m\u001b[0m\u001b[0m\n\u001b[0;32m    260\u001b[0m       \"\"\")\n\u001b[1;32m--> 261\u001b[1;33m     \u001b[0mself\u001b[0m\u001b[1;33m.\u001b[0m\u001b[0m__getattribute__\u001b[0m\u001b[1;33m(\u001b[0m\u001b[0mname\u001b[0m\u001b[1;33m)\u001b[0m\u001b[1;33m\u001b[0m\u001b[1;33m\u001b[0m\u001b[0m\n\u001b[0m\u001b[0;32m    262\u001b[0m \u001b[1;33m\u001b[0m\u001b[0m\n\u001b[0;32m    263\u001b[0m   \u001b[1;33m@\u001b[0m\u001b[0mproperty\u001b[0m\u001b[1;33m\u001b[0m\u001b[1;33m\u001b[0m\u001b[0m\n",
            "\u001b[1;31mAttributeError\u001b[0m: 'tensorflow.python.framework.ops.EagerTensor' object has no attribute 'save'"
          ]
        }
      ],
      "source": []
    }
  ],
  "metadata": {
    "accelerator": "GPU",
    "colab": {
      "provenance": []
    },
    "kernelspec": {
      "display_name": "Python 3",
      "name": "python3"
    },
    "language_info": {
      "codemirror_mode": {
        "name": "ipython",
        "version": 3
      },
      "file_extension": ".py",
      "mimetype": "text/x-python",
      "name": "python",
      "nbconvert_exporter": "python",
      "pygments_lexer": "ipython3",
      "version": "3.9.0"
    }
  },
  "nbformat": 4,
  "nbformat_minor": 0
}
